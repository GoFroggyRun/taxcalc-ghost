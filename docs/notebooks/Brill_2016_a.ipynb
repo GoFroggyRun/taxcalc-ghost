{
 "cells": [
  {
   "cell_type": "markdown",
   "metadata": {},
   "source": [
    "# Introduction \n",
    "\n",
    "This IPython notebook intended to reproduce the results, plots and other reform analysis presented in Alex Brill's paper, \"Understanding Proposed Middle-Class Tax Cuts\", when 2009 public use file is available. Detailed documentations and proper explanations were also included for readers to better understand the code."
   ]
  },
  {
   "cell_type": "code",
   "execution_count": 1,
   "metadata": {
    "collapsed": false
   },
   "outputs": [],
   "source": [
    "# This Cell loaded all the pacakges needed for calculation\n",
    "# and plotting. As an exemplification, matplotlib provides\n",
    "# us with various options of visualization. \n",
    "import sys\n",
    "sys.path.append(\"../../\")\n",
    "from taxcalc import *\n",
    "import pandas as pd\n",
    "import numpy as np\n",
    "import copy\n",
    "import matplotlib\n",
    "import matplotlib.pyplot as plt \n",
    "from matplotlib.transforms import BlendedGenericTransform\n",
    "%matplotlib inline"
   ]
  },
  {
   "cell_type": "markdown",
   "metadata": {},
   "source": [
    "Note that the 'taxcalc', an incubated tool developed by the Open Source Policy Center, offers non-standard tax-related functionality beyond ritual importations. More information regarding 'taxcalc' tool to be found [here](https://github.com/open-source-economics/Tax-Calculator/blob/master/README.md)."
   ]
  },
  {
   "cell_type": "code",
   "execution_count": 2,
   "metadata": {
    "collapsed": true
   },
   "outputs": [],
   "source": [
    "# This cell defines a set operation that avoids potential data\n",
    "# structual error.\n",
    "def print_full(x):\n",
    "    pd.set_option('display.max_rows', len(x))\n",
    "    print(x)\n",
    "    pd.reset_option('display.max_rows')"
   ]
  },
  {
   "cell_type": "code",
   "execution_count": 3,
   "metadata": {
    "collapsed": false
   },
   "outputs": [],
   "source": [
    "# This cell defines 6 experiments that will be used later. Each \n",
    "# Records() statement reads the input; each Policy() statement \n",
    "# determines the parameters; while each Behavior() statement\n",
    "# records the default behavior.\n",
    "\n",
    "# This is the baseline we defined.\n",
    "records_baseline = Records(\"../../puf.csv\")\n",
    "params_baseline = Policy()\n",
    "\n",
    "\n",
    "# Parallel experiment x. \n",
    "records_x = Records(\"../../puf.csv\")\n",
    "params_x = Policy()\n",
    "behavior_x = Behavior()\n",
    "\n",
    "# Parallel experiment y std. \n",
    "records_y_std = Records(\"../../puf.csv\")\n",
    "params_y_std = Policy()\n",
    "behavior_std = Behavior()\n",
    "\n",
    "# Parallel experiment y rates. \n",
    "records_y_rates = Records(\"../../puf.csv\")\n",
    "params_y_rates = Policy()\n",
    "behavior_rates = Behavior()\n",
    "\n",
    "# Parallel experiment y rates low. \n",
    "records_y_rates_low = Records(\"../../puf.csv\")\n",
    "params_y_rates_low = Policy()\n",
    "behavior_rates_low = Behavior()\n",
    "\n",
    "# Parallel experiment y rates high. \n",
    "records_y_rates_high = Records(\"../../puf.csv\")\n",
    "params_y_rates_high = Policy()\n",
    "behavior_rates_high = Behavior()"
   ]
  },
  {
   "cell_type": "markdown",
   "metadata": {},
   "source": [
    "Remark: Notice that, at this point, all the experiments are indifferent. "
   ]
  },
  {
   "cell_type": "markdown",
   "metadata": {},
   "source": [
    "## Implement Reforms"
   ]
  },
  {
   "cell_type": "markdown",
   "metadata": {},
   "source": [
    "When implementing reforms, one should notice the data structure of the parameter(s) to avoid possbile errors. Specifying the year of the reform would also be helpful."
   ]
  },
  {
   "cell_type": "code",
   "execution_count": 4,
   "metadata": {
    "collapsed": false
   },
   "outputs": [],
   "source": [
    "# This is the actual 'base-line' we are using that suppresses AMT. \n",
    "# Default rate: '_AMT_trt1': [.26], '_AMT_trt2': [.02]\n",
    "reform_x = {\n",
    "    2016: {\n",
    "            '_AMT_trt1': [.0],\n",
    "           '_AMT_trt2': [.0]\n",
    "    },\n",
    "}\n",
    "\n",
    "# This is the reform that doubles the standard deduction amount,\n",
    "# on top of the 'base-line' that suppresses AMT. \n",
    "reform_std = {\n",
    "    2016: {\n",
    "            '_STD': [[12600, 25200, 12600, 18600, 25300, 12600, 2100]],\n",
    "            '_AMT_trt1': [.0],\n",
    "            '_AMT_trt2': [.0]\n",
    "           },}\n",
    "\n",
    "\n",
    "# This is the reform that lifts the second income tax bracket threshold,\n",
    "# on top of the 'base-line' that suppresses AMT. \n",
    "# Default value: [37650, 75300, 37650, 50400, 75300, 37650]\n",
    "reform_rates = {\n",
    "    2016: {\n",
    "            '_II_brk2': [[65005, 130010, 65005, 88180, 130010, 65005]],\n",
    "            '_AMT_trt1': [.0],\n",
    "            '_AMT_trt2': [.0]\n",
    "       }, }\n",
    "\n",
    "# This is the reform that lifts the first income tax bracket threshold,\n",
    "# on top of the 'base-line' that suppresses AMT. \n",
    "# Default value: [9275, 18550, 9275, 13250, 18550, 9275]\n",
    "reform_rates_low = {\n",
    "    2016: {\n",
    "           '_II_brk1': [[27825, 55650, 27825, 39750, 55650, 27825]],\n",
    "           '_AMT_trt1': [.0],\n",
    "           '_AMT_trt2': [.0]\n",
    "       }, }\n",
    "\n",
    "# This is the reform that unifies the last three tax rates, \n",
    "# on top of the 'base-line' that suppresses AMT. \n",
    "# Default value:'_II_rt5': [0.33], \n",
    "#               '_II_rt6': [0.35], \n",
    "#               '_II_rt7': [0.396].\n",
    "reform_rates_high = {\n",
    "    2016: {\n",
    "            '_II_rt5': [.2875],\n",
    "            '_II_rt7': [.2875],\n",
    "            '_II_rt6': [.2875],\n",
    "            '_AMT_trt1': [.0],\n",
    "            '_AMT_trt2': [.0]\n",
    "       }, }\n",
    "\n",
    "\n",
    "# After specifying the reforms, we implement them accordingly, using\n",
    "# the implement_reform tool in 'taxclac'\n",
    "params_x.implement_reform(reform_x)\n",
    "params_y_std.implement_reform(reform_std)\n",
    "params_y_rates.implement_reform(reform_rates)\n",
    "params_y_rates_low.implement_reform(reform_rates_low)\n",
    "params_y_rates_high.implement_reform(reform_rates_high)"
   ]
  },
  {
   "cell_type": "markdown",
   "metadata": {},
   "source": [
    "After these reforms being implemented, our experiments here are no longer parallel.  "
   ]
  },
  {
   "cell_type": "markdown",
   "metadata": {},
   "source": [
    "### Create Calculators, increment years, calculate taxes"
   ]
  },
  {
   "cell_type": "markdown",
   "metadata": {},
   "source": [
    "Each cell below would set up a complete calculator, that involves (reformed) policy, default behavior, and input data, where the input will be extrapolated, to year 2013 as deault. This is the earliest possible year, at this moment, where the calculator would be able to carry out any tax calculations. Further extrapolations for input and parameters are optional. "
   ]
  },
  {
   "cell_type": "code",
   "execution_count": 5,
   "metadata": {
    "collapsed": false
   },
   "outputs": [
    {
     "name": "stdout",
     "output_type": "stream",
     "text": [
      "You loaded data for 2009.\n",
      "Your data have been extrapolated to 2013.\n"
     ]
    }
   ],
   "source": [
    "# Standard calculator set-up, all further utilization of tax-calculator shall start from here.\n",
    "calc_x = Calculator(params_x, records_x, behavior_x)\n",
    "\n",
    "# The increment_year() funciton here enables us to go beyond 2013, where input data will always \n",
    "# be extrapolated , while parameters will be extrapolated after year 2016, as further policy \n",
    "# remain unknown.\n",
    "for i in range(4):\n",
    "    calc_x.increment_year()\n",
    "    \n",
    "# The assertion here ensures we are indeed looking at the desired year. \n",
    "assert calc_x.current_year == 2017"
   ]
  },
  {
   "cell_type": "code",
   "execution_count": 6,
   "metadata": {
    "collapsed": false
   },
   "outputs": [
    {
     "name": "stdout",
     "output_type": "stream",
     "text": [
      "You loaded data for 2009.\n",
      "Your data have been extrapolated to 2013.\n"
     ]
    }
   ],
   "source": [
    "calc_baseline = Calculator(params_baseline, records_baseline)\n",
    "for i in range(4):\n",
    "    calc_baseline.increment_year()\n",
    "assert calc_baseline.current_year == 2017"
   ]
  },
  {
   "cell_type": "code",
   "execution_count": 7,
   "metadata": {
    "collapsed": false,
    "scrolled": true
   },
   "outputs": [
    {
     "name": "stdout",
     "output_type": "stream",
     "text": [
      "You loaded data for 2009.\n",
      "Your data have been extrapolated to 2013.\n"
     ]
    }
   ],
   "source": [
    "calc_y_std = Calculator(params_y_std, records_y_std, behavior = behavior_std)\n",
    "for i in range(4):\n",
    "    calc_y_std.increment_year()\n",
    "assert calc_x.current_year == 2017"
   ]
  },
  {
   "cell_type": "code",
   "execution_count": 8,
   "metadata": {
    "collapsed": false
   },
   "outputs": [
    {
     "name": "stdout",
     "output_type": "stream",
     "text": [
      "You loaded data for 2009.\n",
      "Your data have been extrapolated to 2013.\n"
     ]
    }
   ],
   "source": [
    "calc_y_rates = Calculator(params_y_rates, records_y_rates, behavior =  behavior_rates)\n",
    "for i in range(4):\n",
    "    calc_y_rates.increment_year()\n",
    "assert calc_y_rates.current_year == 2017"
   ]
  },
  {
   "cell_type": "code",
   "execution_count": 9,
   "metadata": {
    "collapsed": false
   },
   "outputs": [
    {
     "name": "stdout",
     "output_type": "stream",
     "text": [
      "You loaded data for 2009.\n",
      "Your data have been extrapolated to 2013.\n"
     ]
    }
   ],
   "source": [
    "calc_y_rates_low = Calculator(params_y_rates_low, records_y_rates_low, behavior =  behavior_rates_low)\n",
    "for i in range(4):\n",
    "    calc_y_rates_low.increment_year()\n",
    "assert calc_y_rates_low.current_year == 2017"
   ]
  },
  {
   "cell_type": "code",
   "execution_count": 10,
   "metadata": {
    "collapsed": false
   },
   "outputs": [
    {
     "name": "stdout",
     "output_type": "stream",
     "text": [
      "You loaded data for 2009.\n",
      "Your data have been extrapolated to 2013.\n"
     ]
    }
   ],
   "source": [
    "calc_y_rates_high = Calculator(params_y_rates_high, records_y_rates_high, behavior =  behavior_rates_high)\n",
    "for i in range(4):\n",
    "    calc_y_rates_high.increment_year()\n",
    "assert calc_y_rates_high.current_year == 2017"
   ]
  },
  {
   "cell_type": "code",
   "execution_count": 11,
   "metadata": {
    "collapsed": false
   },
   "outputs": [],
   "source": [
    "# Finally, all outputs were being calculated in this step. \n",
    "calc_x.calc_all()\n",
    "calc_y_std.calc_all()\n",
    "calc_y_rates.calc_all()\n",
    "calc_y_rates_low.calc_all()\n",
    "calc_y_rates_high.calc_all()\n",
    "calc_baseline.calc_all()"
   ]
  },
  {
   "cell_type": "markdown",
   "metadata": {},
   "source": [
    "# Static Change. "
   ]
  },
  {
   "cell_type": "markdown",
   "metadata": {},
   "source": [
    "### Revenue Change (billions)"
   ]
  },
  {
   "cell_type": "code",
   "execution_count": 12,
   "metadata": {
    "collapsed": false
   },
   "outputs": [
    {
     "name": "stdout",
     "output_type": "stream",
     "text": [
      "-99.4599418889\n",
      "-108.075856873\n",
      "-97.3315365795\n",
      "-105.436822532\n"
     ]
    }
   ],
   "source": [
    "# The calc_x_combined here calculates the combined tax liability when AMT is suppressed. \n",
    "# Notice that s006 is the weight factor for each record.\n",
    "calc_x_combined = (calc_x.records._combined * calc_x.records.s006).sum()\n",
    "calc_y_std_combined = (calc_y_std.records._combined * calc_y_std.records.s006).sum()\n",
    "calc_y_rates_combined = (calc_y_rates.records._combined * calc_y_rates.records.s006).sum()\n",
    "calc_y_rates_low_combined = (calc_y_rates_low.records._combined * calc_y_rates_low.records.s006).sum()\n",
    "calc_y_rates_high_combined = (calc_y_rates_high.records._combined * calc_y_rates_high.records.s006).sum()\n",
    "\n",
    "# The difference here measures the effect of doubling the standard deduction, when comapring to the \n",
    "# baseline where AMT is being suppressed. \n",
    "std_rev_diff_static = (calc_y_std_combined - calc_x_combined)/1000000000\n",
    "rates_rev_diff_static = (calc_y_rates_combined - calc_x_combined)/1000000000\n",
    "rates_low_rev_diff_static = (calc_y_rates_low_combined - calc_x_combined)/1000000000\n",
    "rates_high_rev_diff_static = (calc_y_rates_high_combined - calc_x_combined)/1000000000\n",
    "\n",
    "# Printing the difference we calculated. \n",
    "print std_rev_diff_static\n",
    "print rates_rev_diff_static\n",
    "print rates_low_rev_diff_static\n",
    "print rates_high_rev_diff_static"
   ]
  },
  {
   "cell_type": "markdown",
   "metadata": {},
   "source": [
    "There should be 4 outputs when you excute the above cell. These lines should correspond to (again we are comparing against a base line where AMT is suppressed) \n",
    "1. Combined tax liability when doubling the standard deduction amount. \n",
    "2. Lifting the second income tax bracket threshold to the amount we previously specified. \n",
    "3. Lifting the first income tax bracket threshold to the amount we previously specified.\n",
    "4. Unifying the last three tax rates as 28.75%."
   ]
  },
  {
   "cell_type": "markdown",
   "metadata": {},
   "source": [
    "# Create Behavioral Calculators"
   ]
  },
  {
   "cell_type": "code",
   "execution_count": 13,
   "metadata": {
    "collapsed": false
   },
   "outputs": [],
   "source": [
    "# This cell specifies the behaviroal factors we'll be using. Here income effect is set to \n",
    "# 0, while substitution effect is set to 0.3. \n",
    "\n",
    "behavior_std.update_behavior({2017: {'_BE_inc': [0], '_BE_sub': [0.3]}})\n",
    "behavior_rates.update_behavior({2017: {'_BE_inc': [0], '_BE_sub': [0.3]}})\n",
    "behavior_rates_low.update_behavior({2017: {'_BE_inc': [0], '_BE_sub': [0.3]}})\n",
    "behavior_x.update_behavior({2017: {'_BE_inc': [0], '_BE_sub': [0.3]}})\n",
    "behavior_rates_high.update_behavior({2017: {'_BE_inc': [0], '_BE_sub': [0.3]}})"
   ]
  },
  {
   "cell_type": "markdown",
   "metadata": {},
   "source": [
    "Note that estimating the behavioral effect requires some base line. And since we assumes that the 'base line' that suppresses AMT, we first need to obtain the behavioral changes for the 'base line' against the real base line that involves AMT. "
   ]
  },
  {
   "cell_type": "code",
   "execution_count": 14,
   "metadata": {
    "collapsed": false
   },
   "outputs": [],
   "source": [
    "# calc_x is the bench mark, under our assumption, to measure the behavioral responses. \n",
    "calc_x = behavior(calc_baseline, calc_x)\n",
    "calc_y_std_beh = behavior(calc_x, calc_y_std)\n",
    "calc_y_rates_beh = behavior(calc_x, calc_y_rates)\n",
    "calc_y_rates_low_beh = behavior(calc_x, calc_y_rates_low)\n",
    "calc_y_rates_high_beh = behavior(calc_x, calc_y_rates_high)\n",
    "calc_y_std_beh.calc_all()\n",
    "calc_y_rates_beh.calc_all()\n",
    "calc_y_rates_low_beh.calc_all()\n",
    "calc_y_rates_high_beh.calc_all()"
   ]
  },
  {
   "cell_type": "markdown",
   "metadata": {},
   "source": [
    "# Behavioral Change\n"
   ]
  },
  {
   "cell_type": "markdown",
   "metadata": {},
   "source": [
    "### Revenue change (billions)"
   ]
  },
  {
   "cell_type": "code",
   "execution_count": 15,
   "metadata": {
    "collapsed": false,
    "scrolled": true
   },
   "outputs": [
    {
     "name": "stdout",
     "output_type": "stream",
     "text": [
      "-94.7399199188\n",
      "-95.0732803595\n",
      "-94.2230951144\n",
      "-72.2126221866\n"
     ]
    }
   ],
   "source": [
    "calc_x_combined = (calc_x.records._combined * calc_x.records.s006)\n",
    "calc_y_std_beh_combined = (calc_y_std_beh.records._combined * calc_y_std_beh.records.s006)\n",
    "calc_y_rates_beh_combined = (calc_y_rates_beh.records._combined * calc_y_rates_beh.records.s006)\n",
    "calc_y_rates_low_beh_combined = (calc_y_rates_low_beh.records._combined * calc_y_rates_beh.records.s006)\n",
    "calc_y_rates_high_beh_combined = (calc_y_rates_high_beh.records._combined * calc_y_rates_high_beh.records.s006)\n",
    "rev_diff_std = (calc_y_std_beh_combined - calc_x_combined).sum()/1000000000\n",
    "rev_diff_rates = (calc_y_rates_beh_combined - calc_x_combined).sum()/1000000000\n",
    "rev_diff_rates_low = (calc_y_rates_low_beh_combined - calc_x_combined).sum()/1000000000\n",
    "rev_diff_rates_high = (calc_y_rates_high_beh_combined - calc_x_combined).sum()/1000000000\n",
    "print rev_diff_std\n",
    "print rev_diff_rates\n",
    "print rev_diff_rates_low\n",
    "print rev_diff_rates_high"
   ]
  },
  {
   "cell_type": "markdown",
   "metadata": {},
   "source": [
    "Again, the combined tax liability was being calculated that also takes behavioral changes into consideration."
   ]
  },
  {
   "cell_type": "markdown",
   "metadata": {},
   "source": [
    "###    Number of tax cut payers (millions)"
   ]
  },
  {
   "cell_type": "markdown",
   "metadata": {},
   "source": [
    "Apart from estimating the change in revenue, we are also interested in estimating the number of beneficiaries under various reforms. We filtered all records and obtained those that has lower combined liability after applying the reform, and summing up their respective s006, the weight of each record, to get an estimation of the tax-cut population. A numeric numebr 0.0001 is applied here to avoid possible rounding errors. "
   ]
  },
  {
   "cell_type": "code",
   "execution_count": 16,
   "metadata": {
    "collapsed": false
   },
   "outputs": [
    {
     "name": "stdout",
     "output_type": "stream",
     "text": [
      "86.3853363516\n",
      "34.8711625028\n",
      "83.874676216\n"
     ]
    }
   ],
   "source": [
    "num_tax_cut_std = calc_x.records.s006[calc_x.records._combined > calc_y_std_beh.records._combined + .0001].sum()\n",
    "num_tax_cut_rates = calc_x.records.s006[calc_x.records._combined > calc_y_rates_beh.records._combined + .00001].sum()\n",
    "num_tax_cut_rates_low = calc_x.records.s006[calc_x.records._combined > calc_y_rates_low_beh.records._combined + .00001].sum()\n",
    "print num_tax_cut_std/1000000\n",
    "print num_tax_cut_rates/1000000\n",
    "print num_tax_cut_rates_low/1000000"
   ]
  },
  {
   "cell_type": "markdown",
   "metadata": {},
   "source": [
    "Notice that the reform that flats the top three tax rates was no longer considered. "
   ]
  },
  {
   "cell_type": "markdown",
   "metadata": {},
   "source": [
    "### Number of tax cut payers if 20k < AGI < 200k (millions)"
   ]
  },
  {
   "cell_type": "markdown",
   "metadata": {},
   "source": [
    "Now let's look at middle class tax payers who have AGI in between 20,000 and 200,000.\n",
    "\n",
    "The filter `calc_x.records.c00100>20000` and `calc_x.records.c00100<200000` here further resricted qualifying units. "
   ]
  },
  {
   "cell_type": "code",
   "execution_count": 17,
   "metadata": {
    "collapsed": false
   },
   "outputs": [
    {
     "name": "stdout",
     "output_type": "stream",
     "text": [
      "72.9487346626\n",
      "27.4581447973\n",
      "75.9059627164\n"
     ]
    }
   ],
   "source": [
    "num_tax_cut_std_MI = calc_x.records.s006[(calc_x.records._combined > calc_y_std_beh.records._combined + .0001) &\n",
    "                                         (calc_x.records.c00100>20000) &\n",
    "                                         (calc_x.records.c00100<200000)].sum()\n",
    "num_tax_cut_rates_MI = calc_x.records.s006[(calc_x.records._combined > calc_y_rates_beh.records._combined + .00001)  &\n",
    "                                         (calc_x.records.c00100>20000) &\n",
    "                                         (calc_x.records.c00100<200000)].sum()\n",
    "num_tax_cut_rates_low_MI = calc_x.records.s006[(calc_x.records._combined > calc_y_rates_low_beh.records._combined + .00001)  &\n",
    "                                         (calc_x.records.c00100>20000) &\n",
    "                                         (calc_x.records.c00100<200000)].sum()\n",
    "print num_tax_cut_std_MI/1000000\n",
    "print num_tax_cut_rates_MI/1000000\n",
    "print num_tax_cut_rates_low_MI/1000000"
   ]
  },
  {
   "cell_type": "markdown",
   "metadata": {},
   "source": [
    "### Percentage of tax cut payers under various reforms"
   ]
  },
  {
   "cell_type": "code",
   "execution_count": 18,
   "metadata": {
    "collapsed": false
   },
   "outputs": [
    {
     "name": "stdout",
     "output_type": "stream",
     "text": [
      "0.501075005297\n",
      "0.202268911296\n",
      "0.486512012388\n"
     ]
    }
   ],
   "source": [
    "# Recall s006 is the weight for each record, and having all s006 added up gives the total number of tax payers.\n",
    "num_total_filers = calc_x.records.s006.sum()\n",
    "# Dividing the number of tax cut payers (NOT middle class!) in each reform by the total population yields the ratio:\n",
    "pct_cut_std = num_tax_cut_std/num_total_filers\n",
    "pct_cut_rates = num_tax_cut_rates/num_total_filers\n",
    "pct_cut_rates_low = num_tax_cut_rates_low/num_total_filers\n",
    "print pct_cut_std\n",
    "print pct_cut_rates\n",
    "print pct_cut_rates_low"
   ]
  },
  {
   "cell_type": "markdown",
   "metadata": {},
   "source": [
    "### Itemizers after reforms (millions)"
   ]
  },
  {
   "cell_type": "code",
   "execution_count": 19,
   "metadata": {
    "collapsed": false
   },
   "outputs": [
    {
     "name": "stdout",
     "output_type": "stream",
     "text": [
      "24.7558526616\n",
      "45.8270670868\n",
      "45.8360900562\n"
     ]
    }
   ],
   "source": [
    "# Similiar above, using filter `calc_x.records.c04470 > 0` restricts the unit to be itemizer, since this variable,\n",
    "# c04470, would be zero for non-itemizers.\n",
    "# One should also notice that, again, the calc_x, is our `base line` that suppresses the AMT.\n",
    "num_total_itemizers_x = calc_x.records.s006[((calc_x.records.c04470 > 0) &\n",
    "                                             (calc_x.records.c00100 > 0))].sum() \n",
    "num_total_itemizers_std = calc_x.records.s006[((calc_y_std_beh.records.c04470 > 0) &\n",
    "                                               (calc_y_std_beh.records.c00100 > 0))].sum() \n",
    "num_total_itemizers_rates = calc_x.records.s006[((calc_y_rates_beh.records.c04470 > 0) &\n",
    "                                                 (calc_y_rates_beh.records.c00100 > 0))].sum() \n",
    "num_total_itemizers_rates_low = calc_x.records.s006[((calc_y_rates_low_beh.records.c04470 > 0) &\n",
    "                                                     (calc_y_rates_low_beh.records.c00100 > 0))].sum() \n",
    "\n",
    "print num_total_itemizers_std/1000000\n",
    "print num_total_itemizers_rates/1000000\n",
    "print num_total_itemizers_rates_low/1000000"
   ]
  },
  {
   "cell_type": "markdown",
   "metadata": {},
   "source": [
    "### Itemizers after standard deduction reform, with AGI > 200k (millions)"
   ]
  },
  {
   "cell_type": "code",
   "execution_count": 20,
   "metadata": {
    "collapsed": false
   },
   "outputs": [
    {
     "name": "stdout",
     "output_type": "stream",
     "text": [
      "6.35963836174\n"
     ]
    }
   ],
   "source": [
    "print calc_x.records.s006[((calc_y_std_beh.records.c04470 > 0) & (calc_y_std_beh.records.c00100 > 200000))].sum()/1000000"
   ]
  },
  {
   "cell_type": "markdown",
   "metadata": {},
   "source": [
    "### Itemizers after standard deduction reform, with AGI > 100k (millions)"
   ]
  },
  {
   "cell_type": "code",
   "execution_count": 21,
   "metadata": {
    "collapsed": false
   },
   "outputs": [
    {
     "name": "stdout",
     "output_type": "stream",
     "text": [
      "15.4200545616\n"
     ]
    }
   ],
   "source": [
    "print calc_x.records.s006[((calc_y_std_beh.records.c04470 > 0) & (calc_y_std_beh.records.c00100 > 100000))].sum()/1000000"
   ]
  },
  {
   "cell_type": "markdown",
   "metadata": {},
   "source": [
    "The two cells above demonstrate optional ways of filtering."
   ]
  },
  {
   "cell_type": "markdown",
   "metadata": {},
   "source": [
    "### Number of units that switched to itemizers under reforms (millions)"
   ]
  },
  {
   "cell_type": "code",
   "execution_count": 22,
   "metadata": {
    "collapsed": false
   },
   "outputs": [
    {
     "name": "stdout",
     "output_type": "stream",
     "text": [
      "-21.08741511\n",
      "-0.0162006847261\n",
      "-0.00717771536765\n"
     ]
    }
   ],
   "source": [
    "# The num_total_itemizers_x here is the original itemizers\n",
    "itemizers_diff_std = num_total_itemizers_std - num_total_itemizers_x\n",
    "itemizers_diff_rates = num_total_itemizers_rates - num_total_itemizers_x\n",
    "itemizers_diff_rates_low = num_total_itemizers_rates_low - num_total_itemizers_x\n",
    "\n",
    "print itemizers_diff_std/1000000\n",
    "print itemizers_diff_rates/1000000\n",
    "print itemizers_diff_rates_low/1000000"
   ]
  },
  {
   "cell_type": "markdown",
   "metadata": {},
   "source": [
    "The negative number above shows that there's fewer itemizers after respective reform applied, and the greater the absolute amount, the fewer the itemizers there'll be. As indicated by the above output, the reform that doubles the standard deduction has, comparatively and overwhelmingly, changed itemizers to standard filers."
   ]
  },
  {
   "cell_type": "markdown",
   "metadata": {},
   "source": [
    "Let's now repeat similar analysis for middle class (AGI within range 20,000 and 200,000):"
   ]
  },
  {
   "cell_type": "markdown",
   "metadata": {},
   "source": [
    "### Itemizers after reforms 20k < AGI < 200k (millions)"
   ]
  },
  {
   "cell_type": "code",
   "execution_count": 23,
   "metadata": {
    "collapsed": false
   },
   "outputs": [
    {
     "name": "stdout",
     "output_type": "stream",
     "text": [
      "18.2199499026\n",
      "37.5365055873\n",
      "37.5453075609\n"
     ]
    }
   ],
   "source": [
    "num_total_itemizers_x_MI = calc_x.records.s006[((calc_x.records.c04470 > 0) &\n",
    "                                             (calc_x.records.c00100 > 0) &\n",
    "                                             (calc_x.records.c00100>20000) &\n",
    "                                             (calc_x.records.c00100<200000))].sum() \n",
    "num_total_itemizers_std_MI = calc_x.records.s006[((calc_y_std_beh.records.c04470 > 0) &\n",
    "                                               (calc_y_std_beh.records.c00100 > 0)  &\n",
    "                                               (calc_x.records.c00100>20000) &\n",
    "                                               (calc_x.records.c00100<200000))].sum() \n",
    "num_total_itemizers_rates_MI = calc_x.records.s006[((calc_y_rates_beh.records.c04470 > 0) &\n",
    "                                                 (calc_y_rates_beh.records.c00100 > 0) &\n",
    "                                                 (calc_x.records.c00100>20000) &\n",
    "                                                 (calc_x.records.c00100<200000))].sum() \n",
    "num_total_itemizers_rates_low_MI = calc_x.records.s006[((calc_y_rates_low_beh.records.c04470 > 0) &\n",
    "                                                     (calc_y_rates_low_beh.records.c00100 > 0)  &\n",
    "                                                     (calc_x.records.c00100>20000) &\n",
    "                                                     (calc_x.records.c00100<200000))].sum() \n",
    "\n",
    "print num_total_itemizers_std_MI/1000000\n",
    "print num_total_itemizers_rates_MI/1000000\n",
    "print num_total_itemizers_rates_low_MI/1000000"
   ]
  },
  {
   "cell_type": "markdown",
   "metadata": {},
   "source": [
    "### Number of units that switched to itemizers under reforms, with 20k < AGI < 200k (millions)"
   ]
  },
  {
   "cell_type": "code",
   "execution_count": 24,
   "metadata": {
    "collapsed": false
   },
   "outputs": [
    {
     "name": "stdout",
     "output_type": "stream",
     "text": [
      "-19.3325234906\n",
      "-0.0159678058478\n",
      "-0.00716583229021\n"
     ]
    }
   ],
   "source": [
    "itemizers_diff_std_MI = num_total_itemizers_std_MI - num_total_itemizers_x_MI\n",
    "itemizers_diff_rates_MI = num_total_itemizers_rates_MI - num_total_itemizers_x_MI\n",
    "itemizers_diff_rates_low_MI = num_total_itemizers_rates_low_MI - num_total_itemizers_x_MI\n",
    "\n",
    "print itemizers_diff_std_MI/1000000\n",
    "print itemizers_diff_rates_MI/1000000\n",
    "print itemizers_diff_rates_low_MI/1000000"
   ]
  },
  {
   "cell_type": "markdown",
   "metadata": {},
   "source": [
    "### Number of taxpayers with primary earner's wage/salary earnings marginal tax rates with respect to combined liability lowered by more than 0.01% (millions)"
   ]
  },
  {
   "cell_type": "markdown",
   "metadata": {},
   "source": [
    "The `calc_x.mtr()` function in the tax-calculator would calculate the marginal tax rate (one penny added to wage) with respect to fica (Federal Insurance Contributions Act) tax liability, iit (individual income tax) liability and combined tax liability. Keep in mind that there'll always be three output, in the order of fica, iit and combined, when the function is called. "
   ]
  },
  {
   "cell_type": "code",
   "execution_count": 25,
   "metadata": {
    "collapsed": true
   },
   "outputs": [],
   "source": [
    "# Everytime three output variables are produced when mtr function were called.\n",
    "mtr_fica_x, mtr_iit_x, mtr_combined_x = calc_x.mtr()\n",
    "mtr_fica_std, mtr_iit_std, mtr_combined_std = calc_y_std.mtr()\n",
    "mtr_fica_rates, mtr_iit_rates, mtr_combined_rates = calc_y_rates.mtr()\n",
    "mtr_fica_rates_low, mtr_iit_rates_low, mtr_combined_rates_low = calc_y_rates_low.mtr()\n",
    "mtr_fica_rates_high, mtr_iit_rates_high, mtr_combined_rates_high = calc_y_rates_high.mtr()"
   ]
  },
  {
   "cell_type": "code",
   "execution_count": 26,
   "metadata": {
    "collapsed": false
   },
   "outputs": [
    {
     "name": "stdout",
     "output_type": "stream",
     "text": [
      "38.6102496629\n",
      "22.9733952488\n",
      "33.791192147\n"
     ]
    }
   ],
   "source": [
    "# The filter here selects tax payer with lowered mtr w.r.t combined liability, where the error is controlled by 0.01%. \n",
    "num_mtr_cut_std = calc_x.records.s006[mtr_combined_x > mtr_combined_std + .0001].sum()\n",
    "num_mtr_cut_rates = calc_x.records.s006[mtr_combined_x > mtr_combined_rates + .0001].sum()\n",
    "num_mtr_cut_rates_low = calc_x.records.s006[mtr_combined_x > mtr_combined_rates_low + .0001].sum()\n",
    "print num_mtr_cut_std/1000000\n",
    "print num_mtr_cut_rates/1000000\n",
    "print num_mtr_cut_rates_low/1000000"
   ]
  },
  {
   "cell_type": "markdown",
   "metadata": {},
   "source": [
    "### Number of taxpayers with primary earner's wage/salary earnings marginal tax rates with respect to combined liability lowered by more than 0.01%, with 20K < AGI < 200k (millions)"
   ]
  },
  {
   "cell_type": "code",
   "execution_count": 27,
   "metadata": {
    "collapsed": false
   },
   "outputs": [
    {
     "name": "stdout",
     "output_type": "stream",
     "text": [
      "28.8435780312\n",
      "22.7196857534\n",
      "33.2074762848\n"
     ]
    }
   ],
   "source": [
    "# Extra constraints, as used previously, are applied to focus the mtr analysis on middle class. \n",
    "num_mtr_cut_std_MI = calc_x.records.s006[(mtr_combined_x > mtr_combined_std + .0001) &\n",
    "                                             (calc_x.records.c00100>20000) &\n",
    "                                             (calc_x.records.c00100<200000)].sum()\n",
    "num_mtr_cut_rates_MI = calc_x.records.s006[(mtr_combined_x > mtr_combined_rates + .0001) &\n",
    "                                             (calc_x.records.c00100>20000) &\n",
    "                                             (calc_x.records.c00100<200000)].sum()\n",
    "num_mtr_cut_rates_low_MI = calc_x.records.s006[(mtr_combined_x > mtr_combined_rates_low + .0001) &\n",
    "                                             (calc_x.records.c00100>20000) &\n",
    "                                             (calc_x.records.c00100<200000)].sum()\n",
    "print num_mtr_cut_std_MI/1000000\n",
    "print num_mtr_cut_rates_MI/1000000\n",
    "print num_mtr_cut_rates_low_MI/1000000"
   ]
  },
  {
   "cell_type": "markdown",
   "metadata": {},
   "source": [
    "### Number of Taxpayers with a 0% Individual Income Tax mtr"
   ]
  },
  {
   "cell_type": "code",
   "execution_count": 28,
   "metadata": {
    "collapsed": false
   },
   "outputs": [
    {
     "name": "stdout",
     "output_type": "stream",
     "text": [
      "28.6610032925\n",
      "38.1295733928\n",
      "28.6766558157\n",
      "28.9802780767\n"
     ]
    }
   ],
   "source": [
    "num_iit_mtr_zero_x = calc_x.records.s006[mtr_iit_x == 0].sum()\n",
    "num_iit_mtr_zero_std = calc_x.records.s006[mtr_iit_std == 0].sum()\n",
    "num_iit_mtr_zero_rates = calc_x.records.s006[mtr_iit_rates == 0].sum()\n",
    "num_iit_mtr_zero_rates_low = calc_x.records.s006[mtr_iit_rates_low == 0].sum()\n",
    "\n",
    "print num_iit_mtr_zero_x/1000000\n",
    "print num_iit_mtr_zero_std/1000000\n",
    "print num_iit_mtr_zero_rates/1000000\n",
    "print num_iit_mtr_zero_rates_low/1000000"
   ]
  },
  {
   "cell_type": "markdown",
   "metadata": {},
   "source": [
    "### Average MTR on wage inome for primary earners (FICA + IIT) \n",
    "This part calculates the weighted average for combined marginal tax rate. "
   ]
  },
  {
   "cell_type": "code",
   "execution_count": 29,
   "metadata": {
    "collapsed": false
   },
   "outputs": [
    {
     "name": "stdout",
     "output_type": "stream",
     "text": [
      "0.362178802792\n",
      "0.352268892238\n",
      "0.341115059438\n",
      "0.354072598869\n",
      "0.341466970268\n"
     ]
    }
   ],
   "source": [
    "avg_mtr_combined_x = ((mtr_combined_x * calc_x.records.c00100 * calc_x.records.s006).sum()/\n",
    "                      (calc_x.records.c00100 * calc_x.records.s006).sum())\n",
    "avg_mtr_combined_std = ((mtr_combined_std * calc_x.records.c00100 * calc_x.records.s006).sum()/\n",
    "                        (calc_x.records.c00100 * calc_x.records.s006).sum())\n",
    "avg_mtr_combined_rates = ((mtr_combined_rates * calc_x.records.c00100 * calc_x.records.s006).sum()/\n",
    "                          (calc_x.records.c00100 * calc_x.records.s006).sum())\n",
    "avg_mtr_combined_rates_low = ((mtr_combined_rates_low * calc_x.records.c00100 * calc_x.records.s006).sum()/\n",
    "                              (calc_x.records.c00100 * calc_x.records.s006).sum())\n",
    "avg_mtr_combined_rates_high = ((mtr_combined_rates_high * calc_x.records.c00100 * calc_x.records.s006).sum()/\n",
    "                              (calc_x.records.c00100 * calc_x.records.s006).sum())\n",
    "print avg_mtr_combined_x \n",
    "print avg_mtr_combined_std\n",
    "print avg_mtr_combined_rates\n",
    "print avg_mtr_combined_rates_low\n",
    "print avg_mtr_combined_rates_high\n"
   ]
  },
  {
   "cell_type": "markdown",
   "metadata": {},
   "source": [
    "There shall be 5 output after excuting the cell, where the first one is our 'baseline'."
   ]
  },
  {
   "cell_type": "markdown",
   "metadata": {},
   "source": [
    "### Difference in weighted avgerage MTR between reforms and baseline"
   ]
  },
  {
   "cell_type": "markdown",
   "metadata": {},
   "source": [
    "We now, based on the weighted average MTR 'baseline', calculate the desired difference in weighted average MTR. "
   ]
  },
  {
   "cell_type": "code",
   "execution_count": 30,
   "metadata": {
    "collapsed": false
   },
   "outputs": [
    {
     "name": "stdout",
     "output_type": "stream",
     "text": [
      "0.00990991055426\n",
      "0.0210637433547\n",
      "0.00810620392285\n",
      "0.0207118325245\n"
     ]
    }
   ],
   "source": [
    "diff_avg_mtr_combined_std = avg_mtr_combined_x - avg_mtr_combined_std\n",
    "diff_avg_mtr_combined_rates = avg_mtr_combined_x - avg_mtr_combined_rates\n",
    "diff_avg_mtr_combined_rates_low = avg_mtr_combined_x - avg_mtr_combined_rates_low\n",
    "diff_avg_mtr_combined_rates_high = avg_mtr_combined_x - avg_mtr_combined_rates_high\n",
    "\n",
    "print diff_avg_mtr_combined_std\n",
    "print diff_avg_mtr_combined_rates\n",
    "print diff_avg_mtr_combined_rates_low\n",
    "print diff_avg_mtr_combined_rates_high"
   ]
  },
  {
   "cell_type": "markdown",
   "metadata": {},
   "source": [
    "### GDP effect in the following year"
   ]
  },
  {
   "cell_type": "markdown",
   "metadata": {},
   "source": [
    "We now estimate the GPD effect using what Barro and Redlick (2011) have discuseed in their paper. `0.54` here is the elasticity reported in their paper. "
   ]
  },
  {
   "cell_type": "code",
   "execution_count": 31,
   "metadata": {
    "collapsed": false
   },
   "outputs": [
    {
     "name": "stdout",
     "output_type": "stream",
     "text": [
      "0.0053513516993\n",
      "0.0113744214115\n",
      "0.00437735011834\n",
      "0.0111843895633\n"
     ]
    }
   ],
   "source": [
    "gdp_effect_BR_std = diff_avg_mtr_combined_std * .54\n",
    "gdp_effect_BR_rates = diff_avg_mtr_combined_rates * .54\n",
    "gdp_effect_BR_rates_low = diff_avg_mtr_combined_rates_low * .54\n",
    "gdp_effect_BR_rates_high = diff_avg_mtr_combined_rates_high * .54\n",
    "\n",
    "print gdp_effect_BR_std\n",
    "print gdp_effect_BR_rates\n",
    "print gdp_effect_BR_rates_low\n",
    "print gdp_effect_BR_rates_high"
   ]
  },
  {
   "cell_type": "markdown",
   "metadata": {},
   "source": [
    "### Number of taxpayers with 20K < AGI < 200k (millions)"
   ]
  },
  {
   "cell_type": "code",
   "execution_count": 32,
   "metadata": {
    "collapsed": false
   },
   "outputs": [
    {
     "name": "stdout",
     "output_type": "stream",
     "text": [
      "96.5516492561\n"
     ]
    }
   ],
   "source": [
    "num_middle_income = calc_x.records.s006[\n",
    "                                      (calc_x.records.c00100>20000) &\n",
    "                                      (calc_x.records.c00100<200000)].sum()\n",
    "\n",
    "print num_middle_income/1000000"
   ]
  },
  {
   "cell_type": "markdown",
   "metadata": {},
   "source": [
    "### Number of taxpayers paying federal individual income tax < = 0"
   ]
  },
  {
   "cell_type": "markdown",
   "metadata": {},
   "source": [
    "The cell below calculates the number of filers that pay no individual income tax under each scenario. Note the reform that doubles the standard deduction threshold siginificantly increases the amount. "
   ]
  },
  {
   "cell_type": "code",
   "execution_count": 33,
   "metadata": {
    "collapsed": false
   },
   "outputs": [
    {
     "name": "stdout",
     "output_type": "stream",
     "text": [
      "70.3293676171\n",
      "80.3495286436\n",
      "70.3962700906\n",
      "71.1948213924\n"
     ]
    }
   ],
   "source": [
    "num_no_iit_x = calc_x.records.s006[(calc_x.records._iitax <=0)].sum()\n",
    "num_no_iit_std = calc_x.records.s006[calc_y_std_beh.records._iitax <=0].sum()\n",
    "num_no_iit_rates = calc_x.records.s006[calc_y_rates_beh.records._iitax <=0].sum()\n",
    "num_no_iit_rates_low = calc_x.records.s006[calc_y_rates_low_beh.records._iitax <=0].sum()\n",
    "print num_no_iit_x/1000000\n",
    "print num_no_iit_std/1000000\n",
    "print num_no_iit_rates/1000000\n",
    "print num_no_iit_rates_low/1000000"
   ]
  },
  {
   "cell_type": "markdown",
   "metadata": {},
   "source": [
    "### Change in the number of taxpayers paying federal individual income tax <= 0 (millions)"
   ]
  },
  {
   "cell_type": "code",
   "execution_count": 34,
   "metadata": {
    "collapsed": false
   },
   "outputs": [
    {
     "name": "stdout",
     "output_type": "stream",
     "text": [
      "10.0201610265\n",
      "0.0669024735034\n",
      "0.865453775323\n"
     ]
    }
   ],
   "source": [
    "diff_num_no_iit_std = (num_no_iit_std - num_no_iit_x)/1000000\n",
    "diff_num_no_iit_rates = (num_no_iit_rates - num_no_iit_x)/1000000\n",
    "diff_num_no_iit_rates_low = (num_no_iit_rates_low - num_no_iit_x)/1000000\n",
    "print diff_num_no_iit_std\n",
    "print diff_num_no_iit_rates\n",
    "print diff_num_no_iit_rates_low"
   ]
  },
  {
   "cell_type": "markdown",
   "metadata": {},
   "source": [
    "### Numebr of taxpayers paying federal individual income tax < = 0, with 20k< AGI < 200k (millisons)"
   ]
  },
  {
   "cell_type": "markdown",
   "metadata": {},
   "source": [
    "Extra filters were added to restrit the analysis on middle class. And the changed amount was obtained in a similar fashion."
   ]
  },
  {
   "cell_type": "code",
   "execution_count": 35,
   "metadata": {
    "collapsed": false
   },
   "outputs": [
    {
     "name": "stdout",
     "output_type": "stream",
     "text": [
      "14.7832010971\n",
      "19.9876626426\n",
      "14.8501035706\n",
      "15.6486548724\n"
     ]
    }
   ],
   "source": [
    "num_no_iit_x_MI = calc_x.records.s006[(calc_x.records._iitax <=0) &\n",
    "                                      (calc_x.records.c00100>20000) &\n",
    "                                      (calc_x.records.c00100<200000)].sum()\n",
    "num_no_iit_std_MI = calc_x.records.s006[(calc_y_std_beh.records._iitax <=0)&\n",
    "                                        (calc_x.records.c00100>20000) &\n",
    "                                        (calc_x.records.c00100<200000)].sum()\n",
    "num_no_iit_rates_MI = calc_x.records.s006[(calc_y_rates_beh.records._iitax <=0)&\n",
    "                                        (calc_x.records.c00100>20000) &\n",
    "                                        (calc_x.records.c00100<200000)].sum()\n",
    "num_no_iit_rates_low_MI = calc_x.records.s006[(calc_y_rates_low_beh.records._iitax <=0)&\n",
    "                                             (calc_x.records.c00100>20000) &\n",
    "                                             (calc_x.records.c00100<200000)].sum()\n",
    "print num_no_iit_x_MI/1000000\n",
    "print num_no_iit_std_MI/1000000\n",
    "print num_no_iit_rates_MI/1000000\n",
    "print num_no_iit_rates_low_MI/1000000"
   ]
  },
  {
   "cell_type": "markdown",
   "metadata": {},
   "source": [
    "### Change in the number of taxpayers paying federal individual income tax <= 0, with 20k < AGI < 200k (millions)\n"
   ]
  },
  {
   "cell_type": "code",
   "execution_count": 36,
   "metadata": {
    "collapsed": false
   },
   "outputs": [
    {
     "name": "stdout",
     "output_type": "stream",
     "text": [
      "5.20446154548\n",
      "0.0669024735034\n",
      "0.865453775323\n"
     ]
    }
   ],
   "source": [
    "diff_num_no_iit_std_MI = (num_no_iit_std_MI - num_no_iit_x_MI)/1000000\n",
    "diff_num_no_iit_rates_MI = (num_no_iit_rates_MI - num_no_iit_x_MI)/1000000\n",
    "diff_num_no_iit_rates_low_MI = (num_no_iit_rates_low_MI - num_no_iit_x_MI)/1000000\n",
    "print diff_num_no_iit_std_MI\n",
    "print diff_num_no_iit_rates_MI\n",
    "print diff_num_no_iit_rates_low_MI"
   ]
  },
  {
   "cell_type": "markdown",
   "metadata": {},
   "source": [
    "### MTR Skyline joint taxpayer w 2 kids -- only iit, current law"
   ]
  },
  {
   "cell_type": "code",
   "execution_count": 41,
   "metadata": {
    "collapsed": false
   },
   "outputs": [],
   "source": [
    "records_simple_x = Records('../../simple_payer_joint.csv', consider_imputations=False, start_year=2016)\n",
    "params_simple_x = Policy()\n",
    "params_simple_x.set_year(2016)\n",
    "calc_simple_x = Calculator(params_simple_x, records_simple_x, sync_years=False)\n",
    "assert calc_simple_x.current_year == 2016\n",
    "calc_simple_x.calc_all()"
   ]
  },
  {
   "cell_type": "code",
   "execution_count": 42,
   "metadata": {
    "collapsed": true
   },
   "outputs": [],
   "source": [
    "a,mtr_simple_x,c = calc_simple_x.mtr()"
   ]
  },
  {
   "cell_type": "code",
   "execution_count": 43,
   "metadata": {
    "collapsed": false
   },
   "outputs": [
    {
     "data": {
      "text/plain": [
       "(0, 300000)"
      ]
     },
     "execution_count": 43,
     "metadata": {},
     "output_type": "execute_result"
    },
    {
     "data": {
      "image/png": "[encoded data removed]",
      "text/plain": [
       "<matplotlib.figure.Figure at 0x2632f02d0>"
      ]
     },
     "metadata": {},
     "output_type": "display_data"
    }
   ],
   "source": [
    "plt.plot(calc_simple_x.records.c00100, mtr_simple_x)\n",
    "axes = plt.gca()\n",
    "axes.set_xlim([0,300000])"
   ]
  },
  {
   "cell_type": "markdown",
   "metadata": {},
   "source": [
    "### MTR skyline single taxpayer w 0 kids -- only iit, current law"
   ]
  },
  {
   "cell_type": "code",
   "execution_count": 44,
   "metadata": {
    "collapsed": true
   },
   "outputs": [],
   "source": [
    "records_simple_x = Records('../../simple_payer_single.csv', consider_imputations=False, start_year=2016)\n",
    "params_simple_x = Policy()\n",
    "params_simple_x.set_year(2016)\n",
    "calc_simple_x = Calculator(params_simple_x, records_simple_x, sync_years=False)\n",
    "assert calc_simple_x.current_year == 2016\n",
    "calc_simple_x.calc_all()"
   ]
  },
  {
   "cell_type": "code",
   "execution_count": 45,
   "metadata": {
    "collapsed": true
   },
   "outputs": [],
   "source": [
    "a,mtr_simple_x,c = calc_simple_x.mtr()"
   ]
  },
  {
   "cell_type": "code",
   "execution_count": 46,
   "metadata": {
    "collapsed": false,
    "scrolled": true
   },
   "outputs": [
    {
     "data": {
      "text/plain": [
       "(0, 300000)"
      ]
     },
     "execution_count": 46,
     "metadata": {},
     "output_type": "execute_result"
    },
    {
     "data": {
      "image/png": "[encoded data removed]",
      "text/plain": [
       "<matplotlib.figure.Figure at 0x26e2a9350>"
      ]
     },
     "metadata": {},
     "output_type": "display_data"
    }
   ],
   "source": [
    "plt.plot(calc_simple_x.records.c00100, mtr_simple_x)\n",
    "axes = plt.gca()\n",
    "axes.set_xlim([0,300000])\n"
   ]
  },
  {
   "cell_type": "markdown",
   "metadata": {},
   "source": [
    "### MTR Skyline charts including iit_mtr<=0"
   ]
  },
  {
   "cell_type": "code",
   "execution_count": 76,
   "metadata": {
    "collapsed": false
   },
   "outputs": [],
   "source": [
    "RES_COLUMNS = STATS_COLUMNS + ['e00200'] + ['MARS'] + ['n24']\n",
    "def results(c):\n",
    "    outputs = []\n",
    "    for col in RES_COLUMNS:\n",
    "        if hasattr(c.policy, col):\n",
    "            outputs.append(getattr(c.policy, col))\n",
    "        else:\n",
    "            outputs.append(getattr(c.records, col))\n",
    "\n",
    "    return DataFrame(data=np.column_stack(outputs), columns=RES_COLUMNS)\n",
    "\n",
    "\n",
    "EPSILON = 1e-3\n",
    "def wage_weighted(agg, col_name):\n",
    "    return (float((agg[col_name] * agg['s006'] * agg['e00200']).sum())/\n",
    "            ((agg['s006']*agg['e00200']).sum() + EPSILON))\n",
    "\n",
    "def weighted(agg, col_name):\n",
    "    return (float((agg[col_name] * agg['s006']).sum())/\n",
    "            ((agg['s006']).sum() + EPSILON))\n",
    "\n",
    "def add_income_bins(df, num_bins, tab):\n",
    "    # First, sort by income_measure\n",
    "    df.sort(tab, inplace=True)\n",
    "    # Next, do a cumulative sum by the weights\n",
    "    df['cumsum_weights'] = np.cumsum(df['s006'].values)\n",
    "    # Max value of cum sum of weights\n",
    "    max_ = df['cumsum_weights'].values[-1]\n",
    "    # Create 100 bins and labels based on this cumulative weight\n",
    "    bin_edges = [0] + list(np.arange(1, (num_bins+1)) * (max_ / float(num_bins)))\n",
    "    labels = range(1, (num_bins+1))\n",
    "    #  Groupby weighted deciles\n",
    "    df['bins'] = pd.cut(df['cumsum_weights'], bins=bin_edges, labels=labels)\n",
    "    return df\n",
    "\n",
    "def create_mtr_graph(calcX, calcY, MARS, weights, tab, kids_less_or_equal=1000, kids_greater_or_equal = 0, combined_or_IIT = 'combined'):\n",
    "    a, mtr_iit_x, mtr_combined_x = calcX.mtr()\n",
    "    a, mtr_iit_y, mtr_combined_y = calcY.mtr()\n",
    "    df_x = results(calcX)\n",
    "    df_y = results(calcY)\n",
    "    df_x['mtr_iit'] = mtr_iit_x\n",
    "    df_y['mtr_iit'] = mtr_iit_y\n",
    "    df_x['mtr_combined'] = mtr_combined_x\n",
    "    df_y['mtr_combined'] = mtr_combined_y\n",
    "    \n",
    "    \n",
    "    df_y[tab] = df_x[tab]\n",
    "    \n",
    "    df_x = add_income_bins(df_x, 100, tab)\n",
    "    df_y = add_income_bins(df_y, 100, tab)\n",
    "    \n",
    "    df_filtered_x = df_x[ (df_x['MARS']==MARS) & (df_x['n24'] >= kids_greater_or_equal) & (df_x['n24'] <= kids_less_or_equal) ].copy()\n",
    "    df_filtered_y = df_y[ (df_y['MARS']==MARS) & (df_x['n24'] >= kids_greater_or_equal) & (df_x['n24'] <= kids_less_or_equal) ].copy()\n",
    "    \n",
    "    #Create a GroupBy object with 100 groups\n",
    "    gp_x = df_filtered_x.groupby('bins', as_index=False)\n",
    "    gp_y = df_filtered_y.groupby('bins', as_index=False)\n",
    "    \n",
    "    #Create a series of size 100\n",
    "    if combined_or_IIT == 'combined':\n",
    "        wmtr_x = gp_x.apply(weights, 'mtr_combined')\n",
    "        wmtr_y = gp_y.apply(weights, 'mtr_combined')\n",
    "    elif combined_or_IIT == 'IIT':\n",
    "        wmtr_x = gp_x.apply(weights, 'mtr_iit')\n",
    "        wmtr_y = gp_y.apply(weights, 'mtr_iit')\n",
    "\n",
    "    #Create a DataFrame out of this with a default index\n",
    "    wmtrx_df = DataFrame( data=wmtr_x, columns=['w_mtr'])\n",
    "    wmtry_df = DataFrame( data=wmtr_y, columns=['w_mtr'])\n",
    "\n",
    "    #Add the bin labels\n",
    "    wmtrx_df['bins'] = np.arange(1,101)\n",
    "    wmtry_df['bins'] = np.arange(1,101)\n",
    "\n",
    "    #Join df_x and appld on the bin, carrying along 'w_mtr'\n",
    "    #Left join means that 'rslt' is of size len(df_filtered_x)\n",
    "    rsltx = pd.merge(df_filtered_x[['bins']], wmtrx_df, how='left')\n",
    "    rslty = pd.merge(df_filtered_y[['bins']], wmtry_df, how='left')\n",
    "\n",
    "    # Put that column in df_filtered_x, disregarding index of rslt\n",
    "    df_filtered_x['w_mtr'] = rsltx['w_mtr'].values\n",
    "    df_filtered_y['w_mtr'] = rslty['w_mtr'].values\n",
    "    \n",
    "    df_filtered_x.drop_duplicates(subset = 'bins', inplace = True)\n",
    "    df_filtered_y.drop_duplicates(subset = 'bins', inplace = True)\n",
    "    \n",
    "    plt.plot(df_filtered_x.bins, df_filtered_x.w_mtr)\n",
    "    if calcX != calcY:\n",
    "        plt.plot(df_filtered_y.bins.unique(), df_filtered_y.w_mtr.unique())\n",
    "        plt.legend(['Baseline', 'Reform'])\n",
    "\n",
    "    \n",
    "def create_pct_diff_graph(calcX, calcY1, calcY2, calcY3, MARS, weights, tab):\n",
    "    a, mtr_iit_x, mtr_combined_x = calcX.mtr()\n",
    "    a, mtr_iit_y1, mtr_combined_y1 = calcY1.mtr()\n",
    "    a, mtr_iit_y2, mtr_combined_y2 = calcY2.mtr()\n",
    "    a, mtr_iit_y3, mtr_combined_y3 = calcY3.mtr()\n",
    "    df_x = results(calcX)\n",
    "    df_y1 = results(calcY1)\n",
    "    df_y2 = results(calcY2)\n",
    "    df_y3 = results(calcY3)\n",
    "    df_y1['pct_diff_atr'] = ((1 - mtr_combined_y1) - (1 - mtr_combined_x)) / (1 - mtr_combined_x)\n",
    "    df_y2['pct_diff_atr'] = ((1 - mtr_combined_y2) - (1 - mtr_combined_x)) / (1 - mtr_combined_x)\n",
    "    df_y3['pct_diff_atr'] = ((1 - mtr_combined_y3) - (1 - mtr_combined_x)) / (1 - mtr_combined_x)\n",
    "    df_y1[tab] = df_x[tab]\n",
    "    df_y2[tab] = df_x[tab]\n",
    "    df_y3[tab] = df_x[tab]\n",
    "    df_y1 = add_income_bins(df_y1, 100, tab)\n",
    "    df_y2 = add_income_bins(df_y2, 100, tab)\n",
    "    df_y3 = add_income_bins(df_y3, 100, tab)\n",
    "    \n",
    "    df_filtered_y1 = df_y1[ (df_y1['MARS']==MARS) ].copy()\n",
    "    df_filtered_y2 = df_y2[ (df_y2['MARS']==MARS) ].copy()\n",
    "    df_filtered_y3 = df_y3[ (df_y3['MARS']==MARS) ].copy()\n",
    "    \n",
    "    #Create a GroupBy object with 100 groups\n",
    "    gp_y1 = df_filtered_y1.groupby('bins', as_index=False)\n",
    "    gp_y2 = df_filtered_y2.groupby('bins', as_index=False)\n",
    "    gp_y3 = df_filtered_y3.groupby('bins', as_index=False)\n",
    "    \n",
    "    #Create a series of size 100\n",
    "    wpdm_y1 = gp_y1.apply(weights, 'pct_diff_atr')\n",
    "    wpdm_y2 = gp_y2.apply(weights, 'pct_diff_atr')\n",
    "    wpdm_y3 = gp_y3.apply(weights, 'pct_diff_atr')\n",
    "\n",
    "    \n",
    "    #Create a DataFrame out of this with a default index\n",
    "    wpdmy1_df = DataFrame( data=wpdm_y1, columns=['w_pdm'])\n",
    "    wpdmy2_df = DataFrame( data=wpdm_y2, columns=['w_pdm'])\n",
    "    wpdmy3_df = DataFrame( data=wpdm_y3, columns=['w_pdm'])\n",
    "    \n",
    "    #Add the bin labels\n",
    "    wpdmy1_df['bins'] = np.arange(1,101)\n",
    "    wpdmy2_df['bins'] = np.arange(1,101)\n",
    "    wpdmy3_df['bins'] = np.arange(1,101)\n",
    "\n",
    "    #Join df_x and appld on the bin, carrying along 'w_mtr'\n",
    "    #Left join means that 'rslt' is of size len(df_filtered_x)\n",
    "    rslty1 = pd.merge(df_filtered_y1[['bins']], wpdmy1_df, how='left')\n",
    "    rslty2 = pd.merge(df_filtered_y2[['bins']], wpdmy2_df, how='left')\n",
    "    rslty3 = pd.merge(df_filtered_y3[['bins']], wpdmy3_df, how='left')\n",
    "\n",
    "    # Put that column in df_filtered_x, disregarding index of rslt\n",
    "    df_filtered_y1['w_pdm'] = rslty1['w_pdm'].values\n",
    "    df_filtered_y2['w_pdm'] = rslty2['w_pdm'].values\n",
    "    df_filtered_y3['w_pdm'] = rslty3['w_pdm'].values\n",
    "\n",
    "    df_filtered_y1 = df_filtered_y1[['bins', 'w_pdm']]\n",
    "    df_filtered_y2 = df_filtered_y2[['bins', 'w_pdm']]\n",
    "    df_filtered_y3 = df_filtered_y3[['bins', 'w_pdm']]\n",
    "    \n",
    "    \n",
    "    df_filtered_y1.drop_duplicates(inplace=True)\n",
    "    df_filtered_y2.drop_duplicates(inplace=True)\n",
    "    df_filtered_y3.drop_duplicates(inplace=True)\n",
    "    \n",
    "    plt.plot(df_filtered_y1.bins.unique(), df_filtered_y1.w_pdm)\n",
    "    plt.plot(df_filtered_y2.bins.unique(), df_filtered_y2.w_pdm)\n",
    "    plt.plot(df_filtered_y3.bins.unique(), df_filtered_y3.w_pdm)\n",
    "    plt.legend(['Std_ded','15_rt', '10_rt'], bbox_to_anchor=(.5, .9),\n",
    "           bbox_transform=plt.gcf().transFigure)\n",
    "\n",
    "\n",
    "    \n",
    " "
   ]
  },
  {
   "cell_type": "markdown",
   "metadata": {},
   "source": [
    "### Real data, current law policy, single filers, 0 kids"
   ]
  },
  {
   "cell_type": "markdown",
   "metadata": {},
   "source": [
    "##### FICA+IIT"
   ]
  },
  {
   "cell_type": "code",
   "execution_count": 51,
   "metadata": {
    "collapsed": false
   },
   "outputs": [
    {
     "data": {
      "image/png": "[encoded data removed]",
      "text/plain": [
       "<matplotlib.figure.Figure at 0x2675315d0>"
      ]
     },
     "metadata": {},
     "output_type": "display_data"
    }
   ],
   "source": [
    "create_mtr_graph(calc_baseline, calc_baseline, MARS = 1, weights = weighted, tab = 'c00100', kids_less_or_equal=0)"
   ]
  },
  {
   "cell_type": "markdown",
   "metadata": {},
   "source": [
    "##### IIT"
   ]
  },
  {
   "cell_type": "code",
   "execution_count": 52,
   "metadata": {
    "collapsed": false
   },
   "outputs": [
    {
     "data": {
      "image/png": "[encoded data removed]",
      "text/plain": [
       "<matplotlib.figure.Figure at 0x203eea210>"
      ]
     },
     "metadata": {},
     "output_type": "display_data"
    }
   ],
   "source": [
    "create_mtr_graph(calc_baseline, calc_baseline, MARS = 1, weights = weighted, tab = 'c00100', kids_less_or_equal=0, combined_or_IIT='IIT')"
   ]
  },
  {
   "cell_type": "markdown",
   "metadata": {},
   "source": [
    "### Real data, current law policy, joint filers, >=1 kids"
   ]
  },
  {
   "cell_type": "markdown",
   "metadata": {},
   "source": [
    "##### FICA + IIT"
   ]
  },
  {
   "cell_type": "code",
   "execution_count": 77,
   "metadata": {
    "collapsed": false
   },
   "outputs": [
    {
     "data": {
      "image/png": "[encoded data removed]",
      "text/plain": [
       "<matplotlib.figure.Figure at 0x2675c3c90>"
      ]
     },
     "metadata": {},
     "output_type": "display_data"
    }
   ],
   "source": [
    "create_mtr_graph(calc_baseline, calc_baseline, MARS = 2, weights = weighted, tab = 'c00100', kids_greater_or_equal=1)"
   ]
  },
  {
   "cell_type": "markdown",
   "metadata": {},
   "source": [
    "##### IIT"
   ]
  },
  {
   "cell_type": "code",
   "execution_count": 54,
   "metadata": {
    "collapsed": false
   },
   "outputs": [
    {
     "data": {
      "image/png": "[encoded data removed]",
      "text/plain": [
       "<matplotlib.figure.Figure at 0x2673ea890>"
      ]
     },
     "metadata": {},
     "output_type": "display_data"
    }
   ],
   "source": [
    "create_mtr_graph(calc_baseline, calc_baseline, MARS = 2, weights = weighted, tab = 'c00100', kids_greater_or_equal=1, combined_or_IIT='IIT')"
   ]
  },
  {
   "cell_type": "markdown",
   "metadata": {},
   "source": [
    "#### Std Reform\n",
    "#### Single"
   ]
  },
  {
   "cell_type": "markdown",
   "metadata": {},
   "source": [
    "##### FICA + IIT"
   ]
  },
  {
   "cell_type": "code",
   "execution_count": 55,
   "metadata": {
    "collapsed": false
   },
   "outputs": [
    {
     "data": {
      "image/png": "[encoded data removed]",
      "text/plain": [
       "<matplotlib.figure.Figure at 0x141e8ab90>"
      ]
     },
     "metadata": {},
     "output_type": "display_data"
    }
   ],
   "source": [
    "create_mtr_graph(calc_x, calc_y_std, MARS = 1, weights = weighted, tab = 'c00100')"
   ]
  },
  {
   "cell_type": "markdown",
   "metadata": {},
   "source": [
    "##### IIT"
   ]
  },
  {
   "cell_type": "code",
   "execution_count": 56,
   "metadata": {
    "collapsed": false
   },
   "outputs": [
    {
     "data": {
      "image/png": "[encoded data removed]",
      "text/plain": [
       "<matplotlib.figure.Figure at 0x267e0d810>"
      ]
     },
     "metadata": {},
     "output_type": "display_data"
    }
   ],
   "source": [
    "create_mtr_graph(calc_x, calc_y_std, MARS = 1, weights = weighted, tab = 'c00100', combined_or_IIT='IIT')"
   ]
  },
  {
   "cell_type": "markdown",
   "metadata": {},
   "source": [
    "#### Joint"
   ]
  },
  {
   "cell_type": "markdown",
   "metadata": {},
   "source": [
    "##### FICA + IIT"
   ]
  },
  {
   "cell_type": "code",
   "execution_count": 57,
   "metadata": {
    "collapsed": false,
    "scrolled": true
   },
   "outputs": [
    {
     "data": {
      "image/png": "[encoded data removed]",
      "text/plain": [
       "<matplotlib.figure.Figure at 0x267de6510>"
      ]
     },
     "metadata": {},
     "output_type": "display_data"
    }
   ],
   "source": [
    "create_mtr_graph(calc_x, calc_y_std, MARS=2,  weights = weighted, tab = 'c00100')"
   ]
  },
  {
   "cell_type": "markdown",
   "metadata": {},
   "source": [
    "##### IIT"
   ]
  },
  {
   "cell_type": "code",
   "execution_count": 58,
   "metadata": {
    "collapsed": false,
    "scrolled": true
   },
   "outputs": [
    {
     "data": {
      "image/png": "[encoded data removed]",
      "text/plain": [
       "<matplotlib.figure.Figure at 0x2635c9950>"
      ]
     },
     "metadata": {},
     "output_type": "display_data"
    }
   ],
   "source": [
    "create_mtr_graph(calc_x, calc_y_std, MARS=2,  weights = weighted, tab = 'c00100', combined_or_IIT='IIT')"
   ]
  },
  {
   "cell_type": "markdown",
   "metadata": {},
   "source": [
    "#### Rates reform\n",
    "#### Single"
   ]
  },
  {
   "cell_type": "markdown",
   "metadata": {},
   "source": [
    "##### FICA + IIT"
   ]
  },
  {
   "cell_type": "code",
   "execution_count": 59,
   "metadata": {
    "collapsed": false
   },
   "outputs": [
    {
     "data": {
      "image/png": "[encoded data removed]",
      "text/plain": [
       "<matplotlib.figure.Figure at 0x267e56dd0>"
      ]
     },
     "metadata": {},
     "output_type": "display_data"
    }
   ],
   "source": [
    "create_mtr_graph(calc_x, calc_y_rates, MARS=1,  weights = weighted, tab = 'c00100')"
   ]
  },
  {
   "cell_type": "markdown",
   "metadata": {},
   "source": [
    "##### IIT"
   ]
  },
  {
   "cell_type": "code",
   "execution_count": 60,
   "metadata": {
    "collapsed": false
   },
   "outputs": [
    {
     "data": {
      "image/png": "[encoded data removed]",
      "text/plain": [
       "<matplotlib.figure.Figure at 0x267e54710>"
      ]
     },
     "metadata": {},
     "output_type": "display_data"
    }
   ],
   "source": [
    "create_mtr_graph(calc_x, calc_y_rates, MARS=1,  weights = weighted, tab = 'c00100', combined_or_IIT='IIT')"
   ]
  },
  {
   "cell_type": "markdown",
   "metadata": {},
   "source": [
    "#### Joint"
   ]
  },
  {
   "cell_type": "markdown",
   "metadata": {},
   "source": [
    "##### FICA + IIT"
   ]
  },
  {
   "cell_type": "code",
   "execution_count": 61,
   "metadata": {
    "collapsed": false
   },
   "outputs": [
    {
     "data": {
      "image/png": "[encoded data removed]",
      "text/plain": [
       "<matplotlib.figure.Figure at 0x267dc3ed0>"
      ]
     },
     "metadata": {},
     "output_type": "display_data"
    }
   ],
   "source": [
    "create_mtr_graph(calc_x, calc_y_rates, MARS=2,  weights = weighted, tab = 'c00100')"
   ]
  },
  {
   "cell_type": "markdown",
   "metadata": {},
   "source": [
    "##### IIT"
   ]
  },
  {
   "cell_type": "code",
   "execution_count": 62,
   "metadata": {
    "collapsed": false
   },
   "outputs": [
    {
     "data": {
      "image/png": "[encoded data removed]",
      "text/plain": [
       "<matplotlib.figure.Figure at 0x267386e50>"
      ]
     },
     "metadata": {},
     "output_type": "display_data"
    }
   ],
   "source": [
    "create_mtr_graph(calc_x, calc_y_rates, MARS=2,  weights = weighted, tab = 'c00100', combined_or_IIT='IIT')"
   ]
  },
  {
   "cell_type": "markdown",
   "metadata": {},
   "source": [
    "#### Rates Low Reform\n",
    "#### Single"
   ]
  },
  {
   "cell_type": "markdown",
   "metadata": {},
   "source": [
    "##### FICA + IIT"
   ]
  },
  {
   "cell_type": "code",
   "execution_count": 63,
   "metadata": {
    "collapsed": false
   },
   "outputs": [
    {
     "data": {
      "image/png": "[encoded data removed]",
      "text/plain": [
       "<matplotlib.figure.Figure at 0x26897e650>"
      ]
     },
     "metadata": {},
     "output_type": "display_data"
    }
   ],
   "source": [
    "create_mtr_graph(calc_x, calc_y_rates_low, MARS=1, weights = weighted, tab = 'c00100')"
   ]
  },
  {
   "cell_type": "markdown",
   "metadata": {},
   "source": [
    "##### IIT"
   ]
  },
  {
   "cell_type": "code",
   "execution_count": 64,
   "metadata": {
    "collapsed": false
   },
   "outputs": [
    {
     "data": {
      "image/png": "[encoded data removed]",
      "text/plain": [
       "<matplotlib.figure.Figure at 0x2640bd0d0>"
      ]
     },
     "metadata": {},
     "output_type": "display_data"
    }
   ],
   "source": [
    "create_mtr_graph(calc_x, calc_y_rates_low, MARS=1, weights = weighted, tab = 'c00100', combined_or_IIT='IIT')"
   ]
  },
  {
   "cell_type": "markdown",
   "metadata": {},
   "source": [
    "#### Joint"
   ]
  },
  {
   "cell_type": "markdown",
   "metadata": {},
   "source": [
    "##### FICA + IIT"
   ]
  },
  {
   "cell_type": "code",
   "execution_count": 65,
   "metadata": {
    "collapsed": false,
    "scrolled": true
   },
   "outputs": [
    {
     "data": {
      "image/png": "[encoded data removed]",
      "text/plain": [
       "<matplotlib.figure.Figure at 0x266956a90>"
      ]
     },
     "metadata": {},
     "output_type": "display_data"
    }
   ],
   "source": [
    "create_mtr_graph(calc_x, calc_y_rates_low, MARS=2, weights = weighted, tab = 'c00100')"
   ]
  },
  {
   "cell_type": "markdown",
   "metadata": {},
   "source": [
    "##### IIT"
   ]
  },
  {
   "cell_type": "code",
   "execution_count": 66,
   "metadata": {
    "collapsed": false,
    "scrolled": true
   },
   "outputs": [
    {
     "data": {
      "image/png": "[encoded data removed]",
      "text/plain": [
       "<matplotlib.figure.Figure at 0x129f91150>"
      ]
     },
     "metadata": {},
     "output_type": "display_data"
    }
   ],
   "source": [
    "create_mtr_graph(calc_x, calc_y_rates_low, MARS=2, weights = weighted, tab = 'c00100', combined_or_IIT='IIT')"
   ]
  },
  {
   "cell_type": "markdown",
   "metadata": {},
   "source": [
    "### PCT Diff ATR Chart, IIT + FICA"
   ]
  },
  {
   "cell_type": "code",
   "execution_count": 67,
   "metadata": {
    "collapsed": false
   },
   "outputs": [
    {
     "name": "stderr",
     "output_type": "stream",
     "text": [
      "//anaconda/lib/python2.7/site-packages/pandas/util/decorators.py:88: SettingWithCopyWarning: \n",
      "A value is trying to be set on a copy of a slice from a DataFrame\n",
      "\n",
      "See the the caveats in the documentation: http://pandas.pydata.org/pandas-docs/stable/indexing.html#indexing-view-versus-copy\n",
      "  return func(*args, **kwargs)\n"
     ]
    },
    {
     "data": {
      "image/png": "[encoded data removed]",
      "text/plain": [
       "<matplotlib.figure.Figure at 0x2000553d0>"
      ]
     },
     "metadata": {},
     "output_type": "display_data"
    }
   ],
   "source": [
    "create_pct_diff_graph(calc_x, calc_y_std, calc_y_rates, calc_y_rates_low, MARS=1, weights= weighted, tab = 'c00100')"
   ]
  },
  {
   "cell_type": "code",
   "execution_count": 68,
   "metadata": {
    "collapsed": false
   },
   "outputs": [
    {
     "data": {
      "image/png": "[encoded data removed]",
      "text/plain": [
       "<matplotlib.figure.Figure at 0x263ec97d0>"
      ]
     },
     "metadata": {},
     "output_type": "display_data"
    }
   ],
   "source": [
    "create_pct_diff_graph(calc_x, calc_y_std, calc_y_rates, calc_y_rates_low, MARS=2, weights= weighted, tab = 'c00100')"
   ]
  },
  {
   "cell_type": "markdown",
   "metadata": {},
   "source": [
    "### percentiles of AGI, including dependents. Note that we are including negatives and nonfilers"
   ]
  },
  {
   "cell_type": "code",
   "execution_count": 69,
   "metadata": {
    "collapsed": true
   },
   "outputs": [],
   "source": [
    "def tab_income(calc, tab): \n",
    "    df = results(calc)\n",
    "    df = add_income_bins(df, 100, tab)\n",
    "    gp = df.groupby('bins', as_index=False)\n",
    "    wdf = gp.apply(weighted, 'c00100')\n",
    "    print_full(wdf[:])"
   ]
  },
  {
   "cell_type": "code",
   "execution_count": 70,
   "metadata": {
    "collapsed": false
   },
   "outputs": [
    {
     "name": "stdout",
     "output_type": "stream",
     "text": [
      "0      -71458.215608\n",
      "1        -103.410084\n",
      "2           0.000000\n",
      "3           0.000000\n",
      "4           0.000000\n",
      "5           0.000000\n",
      "6           0.000000\n",
      "7           0.375980\n",
      "8          40.307963\n",
      "9         358.203002\n",
      "10        885.928215\n",
      "11       1432.609847\n",
      "12       1954.148117\n",
      "13       2462.200486\n",
      "14       2986.962268\n",
      "15       3516.111535\n",
      "16       4045.059835\n",
      "17       4546.708184\n",
      "18       5078.700723\n",
      "19       5660.709934\n",
      "20       6293.881682\n",
      "21       6910.410790\n",
      "22       7576.822465\n",
      "23       8266.770465\n",
      "24       8960.608168\n",
      "25       9648.300116\n",
      "26      10450.916444\n",
      "27      11201.529627\n",
      "28      11947.265344\n",
      "29      12747.848932\n",
      "30      13469.023343\n",
      "31      14134.452146\n",
      "32      14824.267609\n",
      "33      15532.565009\n",
      "34      16225.823801\n",
      "35      16921.511638\n",
      "36      17657.797719\n",
      "37      18420.967008\n",
      "38      19215.006331\n",
      "39      20069.963360\n",
      "40      20994.889428\n",
      "41      21962.647420\n",
      "42      23010.899241\n",
      "43      24119.440253\n",
      "44      25233.404580\n",
      "45      26351.999013\n",
      "46      27281.442048\n",
      "47      28257.206435\n",
      "48      29225.619782\n",
      "49      30263.753012\n",
      "50      31368.487889\n",
      "51      32488.779996\n",
      "52      33696.673182\n",
      "53      35024.219818\n",
      "54      36437.629508\n",
      "55      37851.275938\n",
      "56      39278.388880\n",
      "57      40604.335205\n",
      "58      41916.101005\n",
      "59      43283.120918\n",
      "60      44754.470524\n",
      "61      46286.421510\n",
      "62      47977.468173\n",
      "63      49772.699728\n",
      "64      51667.602491\n",
      "65      53330.195624\n",
      "66      55113.986467\n",
      "67      56909.761274\n",
      "68      58855.858040\n",
      "69      60901.011963\n",
      "70      63132.175765\n",
      "71      65395.939498\n",
      "72      67582.081813\n",
      "73      69836.419467\n",
      "74      72174.750960\n",
      "75      74586.706099\n",
      "76      77229.404252\n",
      "77      80015.073846\n",
      "78      83105.391454\n",
      "79      86521.761302\n",
      "80      90121.130822\n",
      "81      94183.961548\n",
      "82      98170.369619\n",
      "83     102066.211482\n",
      "84     106145.633321\n",
      "85     110495.390810\n",
      "86     115545.980768\n",
      "87     121151.528062\n",
      "88     127767.953685\n",
      "89     133717.834680\n",
      "90     140092.022285\n",
      "91     147395.690104\n",
      "92     156437.237077\n",
      "93     167529.939885\n",
      "94     182093.179574\n",
      "95     201340.278058\n",
      "96     231660.748436\n",
      "97     278845.000520\n",
      "98     366476.775790\n",
      "99    1271169.928140\n",
      "dtype: float64\n"
     ]
    }
   ],
   "source": [
    "tab_income(calc_x, tab = 'c00100')"
   ]
  },
  {
   "cell_type": "markdown",
   "metadata": {},
   "source": [
    "### percentiles of AGI, excluding dependents. Note that we are including negatives and nonfilers"
   ]
  },
  {
   "cell_type": "code",
   "execution_count": 71,
   "metadata": {
    "collapsed": true
   },
   "outputs": [],
   "source": [
    "RES_COLUMNS = STATS_COLUMNS + ['DSI']\n",
    "def tab_income_noDep(calc, tab):\n",
    "    df = results(calc)\n",
    "    df = df[df.DSI!=1]\n",
    "    df = add_income_bins(df, 100, tab)\n",
    "    gp = df.groupby('bins', as_index=False)\n",
    "    wdf = gp.apply(weighted, 'c00100')\n",
    "    print_full(wdf[:])"
   ]
  },
  {
   "cell_type": "code",
   "execution_count": 72,
   "metadata": {
    "collapsed": false
   },
   "outputs": [
    {
     "name": "stdout",
     "output_type": "stream",
     "text": [
      "0      -75493.311477\n",
      "1         -13.601553\n",
      "2           0.000000\n",
      "3           0.000000\n",
      "4           0.000000\n",
      "5           0.000000\n",
      "6           0.000000\n",
      "7           0.066189\n",
      "8          20.741202\n",
      "9         292.806951\n",
      "10        952.288902\n",
      "11       1703.128942\n",
      "12       2435.433858\n",
      "13       3166.842058\n",
      "14       3883.291705\n",
      "15       4591.028876\n",
      "16       5299.537191\n",
      "17       6057.063670\n",
      "18       6825.980809\n",
      "19       7626.393382\n",
      "20       8433.796585\n",
      "21       9215.559422\n",
      "22      10032.338324\n",
      "23      10836.625949\n",
      "24      11606.102110\n",
      "25      12384.982192\n",
      "26      13179.899079\n",
      "27      13861.304084\n",
      "28      14547.235029\n",
      "29      15246.514287\n",
      "30      15948.208042\n",
      "31      16630.269735\n",
      "32      17337.061768\n",
      "33      18078.041321\n",
      "34      18838.269286\n",
      "35      19642.161988\n",
      "36      20510.038800\n",
      "37      21437.328059\n",
      "38      22394.175736\n",
      "39      23445.630855\n",
      "40      24494.856035\n",
      "41      25595.821126\n",
      "42      26586.328506\n",
      "43      27485.707088\n",
      "44      28404.387727\n",
      "45      29329.491098\n",
      "46      30318.810660\n",
      "47      31367.587321\n",
      "48      32425.040657\n",
      "49      33564.717902\n",
      "50      34806.017575\n",
      "51      36134.921192\n",
      "52      37482.914301\n",
      "53      38839.904244\n",
      "54      40115.823713\n",
      "55      41353.101707\n",
      "56      42617.501157\n",
      "57      43967.705678\n",
      "58      45361.360416\n",
      "59      46882.478730\n",
      "60      48499.053720\n",
      "61      50232.574440\n",
      "62      51995.600219\n",
      "63      53555.849720\n",
      "64      55242.593923\n",
      "65      56937.350325\n",
      "66      58767.241002\n",
      "67      60688.251570\n",
      "68      62765.374321\n",
      "69      64927.449449\n",
      "70      66966.611645\n",
      "71      69097.969028\n",
      "72      71242.420987\n",
      "73      73485.162754\n",
      "74      75867.301993\n",
      "75      78423.973814\n",
      "76      81105.871766\n",
      "77      84193.970718\n",
      "78      87420.947545\n",
      "79      90896.226458\n",
      "80      94786.048472\n",
      "81      98489.843565\n",
      "82     102166.872029\n",
      "83     106009.528408\n",
      "84     110066.860955\n",
      "85     114759.828342\n",
      "86     119889.111810\n",
      "87     125995.345056\n",
      "88     131824.266295\n",
      "89     137520.354827\n",
      "90     143942.917375\n",
      "91     151728.756930\n",
      "92     160913.272029\n",
      "93     172593.495959\n",
      "94     187594.949654\n",
      "95     207643.579784\n",
      "96     239980.735188\n",
      "97     287047.959242\n",
      "98     379071.860016\n",
      "99    1321032.662612\n",
      "dtype: float64\n"
     ]
    }
   ],
   "source": [
    "tab_income_noDep(calc_x, tab = 'c00100')"
   ]
  },
  {
   "cell_type": "markdown",
   "metadata": {
    "collapsed": true
   },
   "source": [
    "### MTR Skyline single taxpayer w 1 kid, combined, no AMT"
   ]
  },
  {
   "cell_type": "code",
   "execution_count": 47,
   "metadata": {
    "collapsed": false
   },
   "outputs": [
    {
     "name": "stdout",
     "output_type": "stream",
     "text": [
      "You loaded data for 2009.\n",
      "Your data have been extrapolated to 2013.\n",
      "You loaded data for 2009.\n",
      "Your data have been extrapolated to 2013.\n"
     ]
    }
   ],
   "source": [
    "records_simple_x = Records('../../simple_payer.csv')\n",
    "params_simple_x = Policy()\n",
    "\n",
    "records_simple_std = Records('../../simple_payer.csv')\n",
    "params_simple_std = Policy()\n",
    "\n",
    "reform_simple_x = {\n",
    "    2016: {\n",
    "            '_AMT_trt1': [.0],\n",
    "           '_AMT_trt2': [.0]\n",
    "    },\n",
    "}\n",
    "\n",
    "\n",
    "reform_simple_std = {\n",
    "    2016: {\n",
    "            '_STD': [[12600, 25200, 12600, 18600, 25300, 12600, 2100]],\n",
    "            '_AMT_trt1': [.0],\n",
    "            '_AMT_trt2': [.0]\n",
    "           },}\n",
    "\n",
    "params_simple_x.implement_reform(reform_simple_x)\n",
    "calc_simple_x = Calculator(params_simple_x, records_simple_x)\n",
    "for i in range(4):\n",
    "    calc_simple_x.increment_year()\n",
    "assert calc_simple_x.current_year == 2017\n",
    "calc_simple_x.calc_all()\n",
    "\n",
    "params_simple_std.implement_reform(reform_simple_std)\n",
    "calc_simple_std = Calculator(params_simple_std, records_simple_std)\n",
    "for i in range(4):\n",
    "    calc_simple_std.increment_year()\n",
    "assert calc_simple_std.current_year == 2017\n",
    "calc_simple_std.calc_all()"
   ]
  },
  {
   "cell_type": "code",
   "execution_count": 48,
   "metadata": {
    "collapsed": true
   },
   "outputs": [],
   "source": [
    "a,b,mtr_simple_x = calc_simple_x.mtr()\n",
    "a,b,mtr_simple_std = calc_simple_std.mtr()"
   ]
  },
  {
   "cell_type": "code",
   "execution_count": 49,
   "metadata": {
    "collapsed": false
   },
   "outputs": [
    {
     "data": {
      "text/plain": [
       "[<matplotlib.lines.Line2D at 0x26e2a9ad0>]"
      ]
     },
     "execution_count": 49,
     "metadata": {},
     "output_type": "execute_result"
    },
    {
     "data": {
      "image/png": "[encoded data removed]",
      "text/plain": [
       "<matplotlib.figure.Figure at 0x2680f21d0>"
      ]
     },
     "metadata": {},
     "output_type": "display_data"
    }
   ],
   "source": [
    "plt.plot(calc_simple_x.records.e00200, mtr_simple_x)\n",
    "plt.plot(calc_simple_std.records.e00200, mtr_simple_std)"
   ]
  },
  {
   "cell_type": "code",
   "execution_count": null,
   "metadata": {
    "collapsed": true
   },
   "outputs": [],
   "source": []
  },
  {
   "cell_type": "code",
   "execution_count": null,
   "metadata": {
    "collapsed": true
   },
   "outputs": [],
   "source": []
  },
  {
   "cell_type": "code",
   "execution_count": null,
   "metadata": {
    "collapsed": true
   },
   "outputs": [],
   "source": []
  },
  {
   "cell_type": "code",
   "execution_count": null,
   "metadata": {
    "collapsed": true
   },
   "outputs": [],
   "source": []
  },
  {
   "cell_type": "code",
   "execution_count": null,
   "metadata": {
    "collapsed": true
   },
   "outputs": [],
   "source": []
  },
  {
   "cell_type": "code",
   "execution_count": null,
   "metadata": {
    "collapsed": true
   },
   "outputs": [],
   "source": []
  }
 ],
 "metadata": {
  "kernelspec": {
   "display_name": "Python 2",
   "language": "python",
   "name": "python2"
  },
  "language_info": {
   "codemirror_mode": {
    "name": "ipython",
    "version": 2
   },
   "file_extension": ".py",
   "mimetype": "text/x-python",
   "name": "python",
   "nbconvert_exporter": "python",
   "pygments_lexer": "ipython2",
   "version": "2.7.11"
  }
 },
 "nbformat": 4,
 "nbformat_minor": 0
}
